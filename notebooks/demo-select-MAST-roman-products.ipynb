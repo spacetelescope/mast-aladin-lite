{
 "cells": [
  {
   "cell_type": "markdown",
   "id": "a99b4982-75c3-4623-bb54-eee7462e3b40",
   "metadata": {},
   "source": [
    "## Select observations and data products from MAST\n",
    "#### and load data products into `jdaviz` and `mast_aladin_lite`"
   ]
  },
  {
   "cell_type": "markdown",
   "id": "290ebc61-9ecd-4a7b-aaaa-eb69ef9ea7db",
   "metadata": {},
   "source": [
    "You'll need roman-specific dependencies for jdaviz, and the latest astroquery:"
   ]
  },
  {
   "cell_type": "code",
   "execution_count": null,
   "id": "375267a7-b0d0-4359-95b7-2a8daab278f8",
   "metadata": {},
   "outputs": [],
   "source": [
    "# pip install git+https://github.com/astropy/astroquery.git\n",
    "# pip install jdaviz[roman]"
   ]
  },
  {
   "cell_type": "code",
   "execution_count": null,
   "id": "733a3895-9a93-433d-ad88-f25201271f7c",
   "metadata": {},
   "outputs": [],
   "source": [
    "import astropy.units as u\n",
    "from astropy.coordinates import SkyCoord\n",
    "\n",
    "from astroquery.mast import MastMissions\n",
    "from astropy.table import Table\n",
    "from mast_aladin_lite import MastTable, AppSidecar\n",
    "\n",
    "\n",
    "target = SkyCoord(ra=270, dec=66, unit='deg')\n",
    "mast = MastMissions(mission='roman')\n",
    "mast._service_api_connection.SERVICE_URL = 'https://masttest.stsci.edu'\n",
    "mast._service_api_connection.REQUEST_URL = 'https://masttest.stsci.edu/search/roman/api/v0.1/'\n",
    "mast._service_api_connection.MISSIONS_DOWNLOAD_URL = 'https://masttest.stsci.edu/search/'\n",
    "\n",
    "obs = mast.query_region(target, radius=0.3 * u.deg)"
   ]
  },
  {
   "cell_type": "markdown",
   "id": "4ffa19a5-bbfa-47d6-8de5-fdbe88d04913",
   "metadata": {},
   "source": [
    "We can construct a `MastTable` widget with the results of the observation query:"
   ]
  },
  {
   "cell_type": "code",
   "execution_count": null,
   "id": "dd9bb8c1-846e-4208-9876-2e6f534d09f7",
   "metadata": {},
   "outputs": [],
   "source": [
    "mast_table_obs = MastTable(obs)\n",
    "mast_table_obs"
   ]
  },
  {
   "cell_type": "markdown",
   "id": "41db68d2-6ea6-4037-8eff-1bde05571bf1",
   "metadata": {},
   "source": [
    "Select the first observation in the table. You can do this by clicking the checkbox in the table widget, or with this call from the API:"
   ]
  },
  {
   "cell_type": "code",
   "execution_count": null,
   "id": "71e1dac0-aba3-45d2-bd91-d6292db5e56b",
   "metadata": {},
   "outputs": [],
   "source": [
    "mast_table_obs.selected_rows = mast_table_obs.items[0:2]"
   ]
  },
  {
   "cell_type": "markdown",
   "id": "af7667ea-9827-4c45-a7bc-6d3f2ecef250",
   "metadata": {},
   "source": [
    "The `MastTable` above contains file sets of observations, but not the files themselves for data products within those file sets. We run a second query to get the data products with `MastMissions.get_product_list`, and create a new `MastTable` widget for those results:"
   ]
  },
  {
   "cell_type": "code",
   "execution_count": null,
   "id": "f776774a-3fe9-4f5f-bd65-5c92076508cf",
   "metadata": {},
   "outputs": [],
   "source": [
    "products = mast.get_product_list(mast_table_obs.selected_rows_table)\n",
    "cal_products = mast.filter_products(products, file_suffix='_cal', calibration_software_version='9.9.0')\n",
    "mast_table_products = MastTable(cal_products, unique_column='uri')\n",
    "mast_table_products"
   ]
  },
  {
   "cell_type": "markdown",
   "id": "3f959df5-e93b-456a-8724-a3797d60c7f2",
   "metadata": {},
   "source": [
    "Select the first data product in the product list:"
   ]
  },
  {
   "cell_type": "code",
   "execution_count": null,
   "id": "ed883248-46a6-4a69-a312-cc045b0b3aca",
   "metadata": {},
   "outputs": [],
   "source": [
    "mast_table_products.selected_rows = mast_table_products.items[:]"
   ]
  },
  {
   "cell_type": "code",
   "execution_count": null,
   "id": "23aa0acf-cb20-4914-aa5a-10161439b2ca",
   "metadata": {},
   "outputs": [],
   "source": [
    "download_path = mast.download_products(mast_table_products.selected_rows_table)['Local Path']"
   ]
  },
  {
   "cell_type": "markdown",
   "id": "d25e9c3b-be58-48d3-9a89-e11fab6563d1",
   "metadata": {},
   "source": [
    "Pop open a sidecar with `jdaviz` and `mast-aladin-lite`:"
   ]
  },
  {
   "cell_type": "code",
   "execution_count": null,
   "id": "329f4f06-e35c-4fc1-80b5-34e183f9a7d2",
   "metadata": {},
   "outputs": [],
   "source": [
    "mast_aladin, viz = AppSidecar.open()"
   ]
  },
  {
   "cell_type": "code",
   "execution_count": null,
   "id": "3d01c80e-a0e9-41a1-89da-4e73926ea2ab",
   "metadata": {},
   "outputs": [],
   "source": [
    "from mast_aladin_lite import MastAladin\n",
    "\n",
    "mast_aladin.target = f\"{target.ra.deg} {target.dec.deg}\"\n",
    "mast_aladin.fov = 0.5\n",
    "\n",
    "mast_aladin.add_graphic_overlay_from_stcs(mast_table_obs.selected_rows_table['s_region']);"
   ]
  },
  {
   "cell_type": "code",
   "execution_count": null,
   "id": "53949bf8-dbd3-49af-9a3a-5a2396f2c6b8",
   "metadata": {},
   "outputs": [],
   "source": [
    "from jdaviz import Imviz\n",
    "\n",
    "with viz.batch_load():\n",
    "    for path in download_path:\n",
    "        viz.load_data(path, gwcs_to_fits_sip=True)\n",
    "\n",
    "# link the images by WCS:\n",
    "viz.link_data('wcs')\n",
    "\n",
    "# make multiple data layers visible at once:\n",
    "plot_opts = viz.plugins['Plot Options']._obj\n",
    "\n",
    "# using private API for now:\n",
    "for layer in plot_opts.layer.choices:\n",
    "    plot_opts.layer_selected = layer\n",
    "    for lyr in plot_opts.layer.selected_obj:\n",
    "        lyr.composite._allow_bad_alpha = True\n",
    "        lyr.state.alpha = 0.99\n",
    "        lyr.state.cmap.set_bad(color='k', alpha=0)\n",
    "        lyr.force_update()"
   ]
  },
  {
   "cell_type": "code",
   "execution_count": null,
   "id": "4e06c94a-f075-44a5-80ec-2b716e6156b1",
   "metadata": {},
   "outputs": [],
   "source": [
    "## API equivalent of clicking the buttons that appear in the above widget:\n",
    "\n",
    "# mast_table_products.vue_open_selected_rows_in_jdaviz();\n",
    "# mast_table_products.vue_open_selected_rows_in_aladin();"
   ]
  },
  {
   "cell_type": "code",
   "execution_count": null,
   "id": "c9c95c2d-8200-407a-be48-2b1fbd50b18f",
   "metadata": {},
   "outputs": [],
   "source": []
  }
 ],
 "metadata": {
  "kernelspec": {
   "display_name": "Python 3 (ipykernel)",
   "language": "python",
   "name": "python3"
  },
  "language_info": {
   "codemirror_mode": {
    "name": "ipython",
    "version": 3
   },
   "file_extension": ".py",
   "mimetype": "text/x-python",
   "name": "python",
   "nbconvert_exporter": "python",
   "pygments_lexer": "ipython3",
   "version": "3.12.11"
  }
 },
 "nbformat": 4,
 "nbformat_minor": 5
}
