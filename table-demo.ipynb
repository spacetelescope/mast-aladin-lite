{
 "cells": [
  {
   "cell_type": "code",
   "execution_count": null,
   "id": "d5a7eca0-884a-4c12-b584-414ea201478b",
   "metadata": {},
   "outputs": [],
   "source": [
    "from pathlib import Path\n",
    "import numpy as np\n",
    "from sidecar import Sidecar\n",
    "\n",
    "from astropy.coordinates import SkyCoord\n",
    "from mast_aladin_lite import MastAladin\n",
    "from astroquery.mast.missions import MastMissions\n",
    "import astropy.units as u\n",
    "from ipywidgets import widgets, Layout, VBox"
   ]
  },
  {
   "cell_type": "markdown",
   "id": "a7db2990-6e66-4747-b0f6-ca4662435bbe",
   "metadata": {},
   "source": [
    "Query MAST for data products on M92 from JWST:"
   ]
  },
  {
   "cell_type": "code",
   "execution_count": null,
   "id": "b00d8d45-6437-4fb7-b3ef-c0eabbd319cf",
   "metadata": {},
   "outputs": [],
   "source": [
    "from astroquery.mast import Catalogs\n",
    "\n",
    "target_name = \"TRAPPIST-1\"\n",
    "catalog_data = Catalogs.query_region(\n",
    "    coordinates=SkyCoord.from_name(target_name),\n",
    "    radius=0.01,  # [deg]\n",
    "    catalog=\"Panstarrs\",\n",
    ")\n",
    "catalog_data.rename_columns(['raMean', 'decMean'], ['ra', 'dec'])"
   ]
  },
  {
   "cell_type": "markdown",
   "id": "813a71cb-1990-4fee-ab31-f53b63308b78",
   "metadata": {},
   "source": [
    "Search for some acquisition image footprints from Missions Mast:"
   ]
  },
  {
   "cell_type": "code",
   "execution_count": null,
   "id": "84f0b6dd-f312-4def-b80e-8f2c2f9d8823",
   "metadata": {},
   "outputs": [],
   "source": [
    "# find MAST data products\n",
    "MastMissions.mission = 'jwst'\n",
    "products = MastMissions.query_criteria(program=1201, exp_type='NRS_WATA', targprop=target_name)"
   ]
  },
  {
   "cell_type": "markdown",
   "id": "5835b2cb-c115-4cc5-a2d2-875661f84d6f",
   "metadata": {},
   "source": [
    "Download a FITS image from SDSS in the region of the sky near the target:"
   ]
  },
  {
   "cell_type": "code",
   "execution_count": null,
   "id": "31ee4c79-3fff-49ff-bf59-12b900c79b02",
   "metadata": {},
   "outputs": [],
   "source": [
    "from astroquery.skyview import SkyView\n",
    "\n",
    "hdulist = SkyView.get_images(\n",
    "    SkyCoord.from_name(target_name),\n",
    "    survey='SDSSg',\n",
    "    radius=0.01 * u.deg\n",
    ")[0]"
   ]
  },
  {
   "cell_type": "markdown",
   "id": "a46fa6dc-4d30-45a3-85a7-e33bc1173244",
   "metadata": {},
   "source": [
    "Launch `mast-aladin-lite` and a table viewer with the available data products:"
   ]
  },
  {
   "cell_type": "code",
   "execution_count": null,
   "id": "7a12eccf-4f83-4956-849a-039b1139b7c9",
   "metadata": {},
   "outputs": [],
   "source": [
    "# create an instance of MastAladin:\n",
    "mast_aladin = MastAladin(\n",
    "    target=target_name,\n",
    "    fov=0.05,\n",
    "    height=400,\n",
    "    survey='SDSS9 colored',\n",
    ")"
   ]
  },
  {
   "cell_type": "markdown",
   "id": "cbd95db2-3156-4853-96b0-0b148a0cbacd",
   "metadata": {},
   "source": [
    "Load the SDSS image into imviz, load the PanSTARRS catalog into imviz:"
   ]
  },
  {
   "cell_type": "code",
   "execution_count": null,
   "id": "bc0b83eb-a54f-470c-9ef6-001cdc184984",
   "metadata": {},
   "outputs": [],
   "source": [
    "viz = Imviz()\n",
    "viz.load_data(hdulist)\n",
    "\n",
    "plot_opts = viz.plugins['Plot Options']\n",
    "\n",
    "plot_opts.stretch_vmin = -1\n",
    "plot_opts.stretch_vmax = 1\n",
    "\n",
    "catalog_plg = viz.plugins['Catalog Search']\n",
    "\n",
    "catalog_data_for_imviz = catalog_data.copy()\n",
    "catalog_data_for_imviz['sky_centroid'] = SkyCoord(\n",
    "    ra=catalog_data['ra'], \n",
    "    dec=catalog_data['dec'],\n",
    "    unit=u.deg\n",
    ")\n",
    "catalog_data_for_imviz['source_id'] = catalog_data_for_imviz['objID']\n",
    "catalog_plg.import_catalog(catalog_data_for_imviz)\n",
    "\n",
    "catalog_plg._obj.search();\n",
    "viz.default_viewer._obj.layers[1].state.color = '#00ff00'\n",
    "viz.default_viewer._obj.layers[1].state.fill = False\n",
    "viz.default_viewer._obj.layers[1].state.size = 100"
   ]
  },
  {
   "cell_type": "markdown",
   "id": "8304cc8c-561d-4d4f-83cf-ab759acde303",
   "metadata": {},
   "source": [
    "Put the widgets into a sidecar:"
   ]
  },
  {
   "cell_type": "code",
   "execution_count": null,
   "id": "f98df055-8aa5-44d5-b12f-6faa8e6c2c6c",
   "metadata": {},
   "outputs": [],
   "source": [
    "with Sidecar(title='Aladin', anchor='right'):\n",
    "    display(\n",
    "        VBox(\n",
    "            children=(\n",
    "                # this displays the aladin-lite widget:\n",
    "                mast_aladin,\n",
    "\n",
    "                # display imviz:\n",
    "                viz.app,\n",
    "                \n",
    "                # this displays an \"info\" widget below, useful\n",
    "                # for printing and debugging:\n",
    "                mast_aladin.info,\n",
    "            )\n",
    "        )\n",
    "    )"
   ]
  },
  {
   "cell_type": "markdown",
   "id": "a86b1c23-0e56-4549-ad0e-9f899752a673",
   "metadata": {},
   "source": [
    "Load the observation footprints into mast-aladin-lite, load the PanSTARRS catalog into mast-aladin-lite"
   ]
  },
  {
   "cell_type": "code",
   "execution_count": null,
   "id": "322bf081-e45b-4ca1-8368-1d90fc6ae781",
   "metadata": {},
   "outputs": [],
   "source": [
    "# at the moment, the regions must be loaded before the catalog. it seems\n",
    "# like the active layer of \"objects\" that can be selected is the last-loaded\n",
    "# layer of \"objects\"\n",
    "mast_aladin.add_graphic_overlay_from_stcs(list(products['s_region']))\n",
    "\n",
    "# now load the table with the method in MastAladin, which\n",
    "# passes the catalog on through aladin-lite and creates a\n",
    "# table widget:\n",
    "mast_aladin.load_table(catalog_data, name='PanSTARRS')"
   ]
  },
  {
   "cell_type": "markdown",
   "id": "8f2a1ae0-4642-4371-b6f7-a1fecd1127b3",
   "metadata": {},
   "source": [
    "Open the catalog table widget in another sidecar below the notebook, add a callback to update the imviz catalog selection when there are updates to the mast-aladin-lite catalog selections:"
   ]
  },
  {
   "cell_type": "code",
   "execution_count": null,
   "id": "991bb1d5-12f9-467d-b177-d03b84e95e19",
   "metadata": {},
   "outputs": [],
   "source": [
    "# display the table widget below:\n",
    "with Sidecar(title='Table', anchor='split-bottom'):\n",
    "    display(mast_aladin.selected_table)\n",
    "\n",
    "# this demo callback will fire whenever another \n",
    "# object in the catalog is selected:\n",
    "def callback(msg):\n",
    "    # this callback will listen for catalog selections\n",
    "    # in aladin-lite and trigger catalog selections\n",
    "    # in the imviz Catalogs plugin:\n",
    "    if 'ra' in msg['new'][0]:\n",
    "        clicked_coord = [msg['new'][0]['ra'], msg['new'][0]['dec']]\n",
    "        for i, row in enumerate(catalog_plg._obj.table._qtable):\n",
    "            row_coord = [row['ra'], row['dec']]\n",
    "\n",
    "            # only select row for exact RA+Dec matches:\n",
    "            if all(np.isclose(row_coord, clicked_coord)):\n",
    "                catalog_plg._obj.select_rows(i)\n",
    "                break\n",
    "\n",
    "\n",
    "# add the callback to a list of callbacks that fire on each change\n",
    "# in selected objects:\n",
    "mast_aladin.selected_table.row_select_callbacks = [callback]"
   ]
  },
  {
   "cell_type": "code",
   "execution_count": null,
   "id": "139729f5-4342-40d2-9bb8-0df91855925a",
   "metadata": {},
   "outputs": [],
   "source": []
  }
 ],
 "metadata": {
  "kernelspec": {
   "display_name": "Python 3 (ipykernel)",
   "language": "python",
   "name": "python3"
  },
  "language_info": {
   "codemirror_mode": {
    "name": "ipython",
    "version": 3
   },
   "file_extension": ".py",
   "mimetype": "text/x-python",
   "name": "python",
   "nbconvert_exporter": "python",
   "pygments_lexer": "ipython3",
   "version": "3.11.11"
  }
 },
 "nbformat": 4,
 "nbformat_minor": 5
}
